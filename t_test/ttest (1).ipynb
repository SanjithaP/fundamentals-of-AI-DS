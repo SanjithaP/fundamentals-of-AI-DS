{
 "cells": [
  {
   "cell_type": "code",
   "execution_count": 67,
   "id": "d8337c86",
   "metadata": {},
   "outputs": [
    {
     "name": "stdout",
     "output_type": "stream",
     "text": [
      "[40, 55, 65, 75, 20, 25, 55, 35, 25, 80, 90, 15]\n",
      "[12, 51, 22, 21, 61, 71, 11, 31, 51, 62, 91, 21]\n",
      "[[40, 55, 65, 75, 20, 25, 55, 35, 25, 80, 90, 15], [12, 51, 22, 21, 61, 71, 11, 31, 51, 62, 91, 21]]\n"
     ]
    }
   ],
   "source": [
    "population=[40,55,23,12,51,43,65,75,22,20,25,24,21,61,67,71,24,11,55,35,25,80,90,15,31,33,51,62,91,21]\n",
    "len(population)\n",
    "s1=[]\n",
    "s2=[]\n",
    "samples=[]\n",
    "for x in population:\n",
    "    if x%5==0:\n",
    "        s1.append(x)\n",
    "    if x%10-1==0 or x%10-2==0:\n",
    "        s2.append(x)\n",
    "print(s1)\n",
    "print(s2)\n",
    "samples.append(s1)\n",
    "samples.append(s2)\n",
    "print(samples)\n",
    "\n",
    "        "
   ]
  },
  {
   "cell_type": "code",
   "execution_count": 68,
   "id": "ba299c73",
   "metadata": {},
   "outputs": [],
   "source": [
    "def mean_cal(S):\n",
    "    sum=0\n",
    "    l=len(S)\n",
    "    for x in S:\n",
    "        sum=sum+x\n",
    "    mean=round(sum/l,2)\n",
    "    return mean\n",
    "    \n",
    "    \n",
    "    "
   ]
  },
  {
   "cell_type": "code",
   "execution_count": 69,
   "id": "d7947722",
   "metadata": {},
   "outputs": [],
   "source": [
    "def sum_x_sq(S):\n",
    "    sum=0\n",
    "    for x in S:\n",
    "        sum=sum+(x**2)\n",
    "    return sum\n",
    "\n",
    "\n",
    "    "
   ]
  },
  {
   "cell_type": "code",
   "execution_count": 70,
   "id": "c473e7d2",
   "metadata": {},
   "outputs": [],
   "source": [
    "s=[40,44,46,41,43,44]\n",
    "def s_x_bar(S):\n",
    "    l=len(S)\n",
    "    sum=0\n",
    "    for x in S:\n",
    "        sum=sum+x\n",
    "    m_sq=(sum**2)/l\n",
    "    x_sq=sum_x_sq(S)\n",
    "    ss=x_sq-m_sq\n",
    "    s=(ss/(l-1))**0.5\n",
    "    x_bar=round(s/(l**0.5),2)\n",
    "    return x_bar"
   ]
  },
  {
   "cell_type": "code",
   "execution_count": 71,
   "id": "09603fff",
   "metadata": {},
   "outputs": [],
   "source": [
    "s=[40,44,46,41,43,44]\n",
    "def t_val_cal(S):\n",
    "    p_mean=mean_cal(population)\n",
    "    p_mean=45\n",
    "    s_mean=mean_cal(S)\n",
    "    s_bar=s_x_bar(S)\n",
    "    mean=s_mean-p_mean\n",
    "    tval=round(mean/s_bar,2)\n",
    "    return tval"
   ]
  },
  {
   "cell_type": "code",
   "execution_count": 72,
   "id": "086127dc",
   "metadata": {},
   "outputs": [],
   "source": [
    "from scipy import stats\n",
    "alpha=0.05\n",
    "def t_test(Sample):\n",
    "    for i in range(len(Sample)):\n",
    "        dof=len(Sample[i])-1\n",
    "        print(\"sample\",i+1)\n",
    "        t_val=t_val_cal(Sample[i])\n",
    "        p_val=round(1-stats.t.cdf(t_val,dof),2)\n",
    "        if p_val<alpha:\n",
    "            print(\"Reject the null hypothesis; there is a significant difference between the sample mean and the hypothesized population mean.\")\n",
    "        else:\n",
    "            print(\"Accept the null hypothesis; there is no significant difference between the sample mean and the hypothesized population mean.\")  "
   ]
  },
  {
   "cell_type": "code",
   "execution_count": 73,
   "id": "4c907bd8",
   "metadata": {},
   "outputs": [
    {
     "name": "stdout",
     "output_type": "stream",
     "text": [
      "sample 1\n",
      "Accept the null hypothesis; there is no significant difference between the sample mean and the hypothesized population mean.\n",
      "sample 2\n",
      "Accept the null hypothesis; there is no significant difference between the sample mean and the hypothesized population mean.\n"
     ]
    }
   ],
   "source": [
    "t_test(samples)"
   ]
  },
  {
   "cell_type": "code",
   "execution_count": null,
   "id": "2cfc99d8",
   "metadata": {},
   "outputs": [],
   "source": []
  }
 ],
 "metadata": {
  "kernelspec": {
   "display_name": "Python 3",
   "language": "python",
   "name": "python3"
  },
  "language_info": {
   "codemirror_mode": {
    "name": "ipython",
    "version": 3
   },
   "file_extension": ".py",
   "mimetype": "text/x-python",
   "name": "python",
   "nbconvert_exporter": "python",
   "pygments_lexer": "ipython3",
   "version": "3.8.8"
  }
 },
 "nbformat": 4,
 "nbformat_minor": 5
}
